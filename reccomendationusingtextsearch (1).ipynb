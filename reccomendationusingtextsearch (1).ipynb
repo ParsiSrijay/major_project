{
  "nbformat": 4,
  "nbformat_minor": 0,
  "metadata": {
    "colab": {
      "name": "reccomendationusingtextsearch.ipynb",
      "provenance": [],
      "collapsed_sections": []
    },
    "kernelspec": {
      "name": "python3",
      "display_name": "Python 3"
    }
  },
  "cells": [
    {
      "cell_type": "code",
      "metadata": {
        "colab": {
          "base_uri": "https://localhost:8080/"
        },
        "id": "ighUyz-UmMvp",
        "outputId": "e75eeda7-39f8-42bb-ae4e-b9de7e79ef64"
      },
      "source": [
        "!pip install py_stringmatching"
      ],
      "execution_count": null,
      "outputs": [
        {
          "output_type": "stream",
          "text": [
            "Collecting py_stringmatching\n",
            "\u001b[?25l  Downloading https://files.pythonhosted.org/packages/90/d1/9163e0b0ac3bbb0f727ef8d380985c23066fb98d5005a34483ad76da06b4/py_stringmatching-0.4.2.tar.gz (661kB)\n",
            "\r\u001b[K     |▌                               | 10kB 14.6MB/s eta 0:00:01\r\u001b[K     |█                               | 20kB 19.7MB/s eta 0:00:01\r\u001b[K     |█▌                              | 30kB 10.1MB/s eta 0:00:01\r\u001b[K     |██                              | 40kB 8.3MB/s eta 0:00:01\r\u001b[K     |██▌                             | 51kB 5.4MB/s eta 0:00:01\r\u001b[K     |███                             | 61kB 6.3MB/s eta 0:00:01\r\u001b[K     |███▌                            | 71kB 6.3MB/s eta 0:00:01\r\u001b[K     |████                            | 81kB 6.1MB/s eta 0:00:01\r\u001b[K     |████▌                           | 92kB 6.0MB/s eta 0:00:01\r\u001b[K     |█████                           | 102kB 5.2MB/s eta 0:00:01\r\u001b[K     |█████▌                          | 112kB 5.2MB/s eta 0:00:01\r\u001b[K     |██████                          | 122kB 5.2MB/s eta 0:00:01\r\u001b[K     |██████▍                         | 133kB 5.2MB/s eta 0:00:01\r\u001b[K     |███████                         | 143kB 5.2MB/s eta 0:00:01\r\u001b[K     |███████▍                        | 153kB 5.2MB/s eta 0:00:01\r\u001b[K     |████████                        | 163kB 5.2MB/s eta 0:00:01\r\u001b[K     |████████▍                       | 174kB 5.2MB/s eta 0:00:01\r\u001b[K     |█████████                       | 184kB 5.2MB/s eta 0:00:01\r\u001b[K     |█████████▍                      | 194kB 5.2MB/s eta 0:00:01\r\u001b[K     |██████████                      | 204kB 5.2MB/s eta 0:00:01\r\u001b[K     |██████████▍                     | 215kB 5.2MB/s eta 0:00:01\r\u001b[K     |███████████                     | 225kB 5.2MB/s eta 0:00:01\r\u001b[K     |███████████▍                    | 235kB 5.2MB/s eta 0:00:01\r\u001b[K     |███████████▉                    | 245kB 5.2MB/s eta 0:00:01\r\u001b[K     |████████████▍                   | 256kB 5.2MB/s eta 0:00:01\r\u001b[K     |████████████▉                   | 266kB 5.2MB/s eta 0:00:01\r\u001b[K     |█████████████▍                  | 276kB 5.2MB/s eta 0:00:01\r\u001b[K     |█████████████▉                  | 286kB 5.2MB/s eta 0:00:01\r\u001b[K     |██████████████▍                 | 296kB 5.2MB/s eta 0:00:01\r\u001b[K     |██████████████▉                 | 307kB 5.2MB/s eta 0:00:01\r\u001b[K     |███████████████▍                | 317kB 5.2MB/s eta 0:00:01\r\u001b[K     |███████████████▉                | 327kB 5.2MB/s eta 0:00:01\r\u001b[K     |████████████████▍               | 337kB 5.2MB/s eta 0:00:01\r\u001b[K     |████████████████▉               | 348kB 5.2MB/s eta 0:00:01\r\u001b[K     |█████████████████▎              | 358kB 5.2MB/s eta 0:00:01\r\u001b[K     |█████████████████▉              | 368kB 5.2MB/s eta 0:00:01\r\u001b[K     |██████████████████▎             | 378kB 5.2MB/s eta 0:00:01\r\u001b[K     |██████████████████▉             | 389kB 5.2MB/s eta 0:00:01\r\u001b[K     |███████████████████▎            | 399kB 5.2MB/s eta 0:00:01\r\u001b[K     |███████████████████▉            | 409kB 5.2MB/s eta 0:00:01\r\u001b[K     |████████████████████▎           | 419kB 5.2MB/s eta 0:00:01\r\u001b[K     |████████████████████▉           | 430kB 5.2MB/s eta 0:00:01\r\u001b[K     |█████████████████████▎          | 440kB 5.2MB/s eta 0:00:01\r\u001b[K     |█████████████████████▉          | 450kB 5.2MB/s eta 0:00:01\r\u001b[K     |██████████████████████▎         | 460kB 5.2MB/s eta 0:00:01\r\u001b[K     |██████████████████████▊         | 471kB 5.2MB/s eta 0:00:01\r\u001b[K     |███████████████████████▎        | 481kB 5.2MB/s eta 0:00:01\r\u001b[K     |███████████████████████▊        | 491kB 5.2MB/s eta 0:00:01\r\u001b[K     |████████████████████████▎       | 501kB 5.2MB/s eta 0:00:01\r\u001b[K     |████████████████████████▊       | 512kB 5.2MB/s eta 0:00:01\r\u001b[K     |█████████████████████████▎      | 522kB 5.2MB/s eta 0:00:01\r\u001b[K     |█████████████████████████▊      | 532kB 5.2MB/s eta 0:00:01\r\u001b[K     |██████████████████████████▎     | 542kB 5.2MB/s eta 0:00:01\r\u001b[K     |██████████████████████████▊     | 552kB 5.2MB/s eta 0:00:01\r\u001b[K     |███████████████████████████▎    | 563kB 5.2MB/s eta 0:00:01\r\u001b[K     |███████████████████████████▊    | 573kB 5.2MB/s eta 0:00:01\r\u001b[K     |████████████████████████████▏   | 583kB 5.2MB/s eta 0:00:01\r\u001b[K     |████████████████████████████▊   | 593kB 5.2MB/s eta 0:00:01\r\u001b[K     |█████████████████████████████▏  | 604kB 5.2MB/s eta 0:00:01\r\u001b[K     |█████████████████████████████▊  | 614kB 5.2MB/s eta 0:00:01\r\u001b[K     |██████████████████████████████▏ | 624kB 5.2MB/s eta 0:00:01\r\u001b[K     |██████████████████████████████▊ | 634kB 5.2MB/s eta 0:00:01\r\u001b[K     |███████████████████████████████▏| 645kB 5.2MB/s eta 0:00:01\r\u001b[K     |███████████████████████████████▊| 655kB 5.2MB/s eta 0:00:01\r\u001b[K     |████████████████████████████████| 665kB 5.2MB/s \n",
            "\u001b[?25hRequirement already satisfied: numpy>=1.7.0 in /usr/local/lib/python3.7/dist-packages (from py_stringmatching) (1.19.5)\n",
            "Requirement already satisfied: six in /usr/local/lib/python3.7/dist-packages (from py_stringmatching) (1.15.0)\n",
            "Building wheels for collected packages: py-stringmatching\n",
            "  Building wheel for py-stringmatching (setup.py) ... \u001b[?25l\u001b[?25hdone\n",
            "  Created wheel for py-stringmatching: filename=py_stringmatching-0.4.2-cp37-cp37m-linux_x86_64.whl size=2055256 sha256=b105b324312e6921fa589f16974e54ae292984921f893ed29fa35296abe9e8dd\n",
            "  Stored in directory: /root/.cache/pip/wheels/be/8c/5d/bcdaf17d0784738b73e856ebc4061cd3f2509753a83dd71058\n",
            "Successfully built py-stringmatching\n",
            "Installing collected packages: py-stringmatching\n",
            "Successfully installed py-stringmatching-0.4.2\n"
          ],
          "name": "stdout"
        }
      ]
    },
    {
      "cell_type": "code",
      "metadata": {
        "id": "ZHAY8VR9l3f5"
      },
      "source": [
        "from py_stringmatching import utils\n",
        "from py_stringmatching.similarity_measure.jaro import Jaro\n",
        "from py_stringmatching.similarity_measure.hybrid_similarity_measure import HybridSimilarityMeasure"
      ],
      "execution_count": null,
      "outputs": []
    },
    {
      "cell_type": "code",
      "metadata": {
        "id": "U7etHWzBIQjU"
      },
      "source": [
        "from __future__ import division\n",
        "from math import sqrt\n",
        "import collections\n",
        "\n",
        "from py_stringmatching import utils\n",
        "from py_stringmatching.similarity_measure.jaro import Jaro\n",
        "from py_stringmatching.similarity_measure.hybrid_similarity_measure import \\\n",
        "                                                    HybridSimilarityMeasure\n",
        "\n",
        "\n",
        "class SoftTfIdf(HybridSimilarityMeasure):\n",
        "    \"\"\"Computes soft TF/IDF measure. \n",
        "    \n",
        "    Note:\n",
        "        Currently, this measure is implemented without dampening. This is similar to setting dampen flag to be False in TF-IDF.\n",
        "        We plan to add the dampen flag in the next release.   \n",
        "\n",
        "    Args:\n",
        "        corpus_list (list of lists): Corpus list (default is set to None) of strings. If set to None,\n",
        "                                     the input list are considered the only corpus.\n",
        "        sim_func (function): Secondary similarity function. This should return a similarity score between two strings (optional),\n",
        "                             default is the Jaro similarity measure.\n",
        "        threshold (float): Threshold value for the secondary similarity function (defaults to 0.5). If the similarity\n",
        "                           of a token pair exceeds the threshold, then the token pair is considered a match.\n",
        "\n",
        "    Attributes:\n",
        "        sim_func (function): An attribute to store the secondary similarity function.\n",
        "        threshold (float): An attribute to store the threshold value for the secondary similarity function. \n",
        "    \"\"\"\n",
        "\n",
        "    def __init__(self, corpus_list=None, sim_func=Jaro().get_raw_score,\n",
        "                 threshold=0.5):\n",
        "        self.__corpus_list = corpus_list\n",
        "        self.__document_frequency = {}\n",
        "        self.__compute_document_frequency()\n",
        "        self.__corpus_size = 0 if self.__corpus_list is None else (\n",
        "                                                         len(self.__corpus_list))\n",
        "        self.sim_func = sim_func\n",
        "        self.threshold = threshold\n",
        "        super(SoftTfIdf, self).__init__()\n",
        "\n",
        "    def get_raw_score(self, bag1, bag2):\n",
        "        \"\"\"Computes the raw soft TF/IDF score between two lists given the corpus information.\n",
        "\n",
        "        Args:\n",
        "            bag1,bag2 (list): Input lists\n",
        "\n",
        "        Returns:\n",
        "            Soft TF/IDF score between the input lists (float).\n",
        "\n",
        "        Raises:\n",
        "            TypeError : If the inputs are not lists or if one of the inputs is None.\n",
        "\n",
        "        Examples:\n",
        "            >>> soft_tfidf = SoftTfIdf([['a', 'b', 'a'], ['a', 'c'], ['a']], sim_func=Jaro().get_raw_score, threshold=0.8)\n",
        "            >>> soft_tfidf.get_raw_score(['a', 'b', 'a'], ['a', 'c'])\n",
        "            0.17541160386140586\n",
        "            >>> soft_tfidf = SoftTfIdf([['a', 'b', 'a'], ['a', 'c'], ['a']], threshold=0.9)\n",
        "            >>> soft_tfidf.get_raw_score(['a', 'b', 'a'], ['a'])\n",
        "            0.5547001962252291\n",
        "            >>> soft_tfidf = SoftTfIdf([['x', 'y'], ['w'], ['q']])\n",
        "            >>> soft_tfidf.get_raw_score(['a', 'b', 'a'], ['a'])\n",
        "            0.0\n",
        "            >>> soft_tfidf = SoftTfIdf(sim_func=Affine().get_raw_score, threshold=0.6)\n",
        "            >>> soft_tfidf.get_raw_score(['aa', 'bb', 'a'], ['ab', 'ba'])\n",
        "            0.81649658092772592\n",
        "\n",
        "        References:\n",
        "            * the string matching chapter of the \"Principles of Data Integration\" book.\n",
        "        \"\"\"\n",
        "        \n",
        "        # input validations\n",
        "        utils.sim_check_for_none(bag1, bag2)\n",
        "        utils.sim_check_for_list_or_set_inputs(bag1, bag2)\n",
        "\n",
        "        # if the strings match exactly return 1.0\n",
        "        if utils.sim_check_for_exact_match(bag1, bag2):\n",
        "            return 1.0\n",
        "\n",
        "        # if one of the strings is empty return 0\n",
        "        if utils.sim_check_for_empty(bag1, bag2):\n",
        "            return 0\n",
        "\n",
        "        # term frequency for input strings\n",
        "        tf_x, tf_y = collections.Counter(bag1), collections.Counter(bag2)\n",
        "        \n",
        "        # find unique elements in the input lists and their document frequency \n",
        "        local_df = {}\n",
        "        for element in tf_x:\n",
        "            local_df[element] = local_df.get(element, 0) + 1\n",
        "        for element in tf_y:\n",
        "            local_df[element] = local_df.get(element, 0) + 1\n",
        "\n",
        "        # if corpus is not provided treat input string as corpus\n",
        "        curr_df, corpus_size = (local_df, 2) if self.__corpus_list is None else (\n",
        "                                   (self.__document_frequency, self.__corpus_size))\n",
        "\n",
        "        # calculating the term sim score against the input string 2,\n",
        "        # construct similarity map\n",
        "        similarity_map = {}\n",
        "        for term_x in tf_x:\n",
        "            max_score = 0.0\n",
        "            for term_y in tf_y:\n",
        "                score = self.sim_func(term_x, term_y)\n",
        "                # adding sim only if it is above threshold and\n",
        "                # highest for this element\n",
        "                if score > self.threshold and score > max_score:\n",
        "                    similarity_map[term_x] = (term_x, term_y, score)\n",
        "                    max_score = score\n",
        "\n",
        "        # position of first string, second string and sim score\n",
        "        # in the tuple\n",
        "        first_string_pos = 0\n",
        "        second_string_pos = 1\n",
        "        sim_score_pos = 2\n",
        "\n",
        "        result, v_x_2, v_y_2 = 0.0, 1.0, 1.0\n",
        "        # soft-tfidf calculation\n",
        "        for element in local_df.keys():\n",
        "            if curr_df.get(element) is None:\n",
        "                continue\n",
        "            # numerator\n",
        "            if element in similarity_map:\n",
        "                sim = similarity_map[element]\n",
        "                idf_first = corpus_size / curr_df.get(sim[first_string_pos], 1)\n",
        "                idf_second = corpus_size / curr_df.get(sim[second_string_pos], 1)\n",
        "                v_x = idf_first * tf_x.get(sim[first_string_pos], 0)\n",
        "                v_y = idf_second * tf_y.get(sim[second_string_pos], 0)\n",
        "                result += v_x * v_y * sim[sim_score_pos]\n",
        "            # denominator\n",
        "            idf = corpus_size / curr_df[element]\n",
        "            v_x = idf * tf_x.get(element, 0)\n",
        "            v_x_2 += v_x * v_x\n",
        "            v_y = idf * tf_y.get(element, 0)\n",
        "            v_y_2 += v_y * v_y\n",
        "        return result if v_x_2 == 0 else result / (sqrt(v_x_2) * sqrt(v_y_2))\n",
        "\n",
        "    def get_corpus_list(self):\n",
        "        \"\"\"Get corpus list.\n",
        "\n",
        "        Returns:\n",
        "            corpus list (list of lists).\n",
        "        \"\"\"\n",
        "        return self.__corpus_list\n",
        "\n",
        "    def get_sim_func(self):\n",
        "        \"\"\"Get secondary similarity function.\n",
        "\n",
        "        Returns:\n",
        "            secondary similarity function (function).\n",
        "        \"\"\"\n",
        "        return self.sim_func\n",
        "\n",
        "    def get_threshold(self):\n",
        "        \"\"\"Get threshold used for the secondary similarity function.\n",
        "\n",
        "        Returns:\n",
        "            threshold (float).\n",
        "        \"\"\"\n",
        "        return self.threshold\n",
        "\n",
        "    def set_threshold(self, threshold):\n",
        "        \"\"\"Set threshold value for the secondary similarity function.\n",
        "\n",
        "        Args:\n",
        "            threshold (float): threshold value.\n",
        "        \"\"\"\n",
        "        self.threshold = threshold\n",
        "        return True\n",
        "\n",
        "    def set_sim_func(self, sim_func):\n",
        "        \"\"\"Set secondary similarity function.\n",
        "\n",
        "        Args:\n",
        "            sim_func (function): Secondary similarity function.\n",
        "        \"\"\"\n",
        "        self.sim_func = sim_func\n",
        "        return True\n",
        "\n",
        "    def set_corpus_list(self, corpus_list):\n",
        "        \"\"\"Set corpus list.\n",
        "\n",
        "        Args:\n",
        "            corpus_list (list of lists): Corpus list.\n",
        "        \"\"\"\n",
        "        self.__corpus_list = corpus_list\n",
        "        self.__document_frequency = {}\n",
        "        self.__compute_document_frequency()\n",
        "        self.__corpus_size = 0 if self.__corpus_list is None else (\n",
        "                                                         len(self.__corpus_list))\n",
        "        return True\n",
        "\n",
        "    def __compute_document_frequency(self):\n",
        "        if self.__corpus_list != None:\n",
        "            for document in self.__corpus_list:\n",
        "                for element in set(document):\n",
        "                    self.__document_frequency[element] = (\n",
        "                        self.__document_frequency.get(element, 0) + 1)\n"
      ],
      "execution_count": null,
      "outputs": []
    },
    {
      "cell_type": "code",
      "metadata": {
        "id": "wPhKNwKKmynq"
      },
      "source": [
        "import pandas as pd\n",
        "import numpy as np"
      ],
      "execution_count": null,
      "outputs": []
    },
    {
      "cell_type": "code",
      "metadata": {
        "id": "FV1dPk_Nm5cH"
      },
      "source": [
        "data = pd.read_csv(\"sample_data/main_dataset.csv\")"
      ],
      "execution_count": null,
      "outputs": []
    },
    {
      "cell_type": "code",
      "metadata": {
        "colab": {
          "base_uri": "https://localhost:8080/",
          "height": 417
        },
        "id": "uXIRI3x8stwM",
        "outputId": "c2ecd546-a2c5-4d57-d75d-3056365dafd4"
      },
      "source": [
        "data.head()"
      ],
      "execution_count": null,
      "outputs": [
        {
          "output_type": "execute_result",
          "data": {
            "text/html": [
              "<div>\n",
              "<style scoped>\n",
              "    .dataframe tbody tr th:only-of-type {\n",
              "        vertical-align: middle;\n",
              "    }\n",
              "\n",
              "    .dataframe tbody tr th {\n",
              "        vertical-align: top;\n",
              "    }\n",
              "\n",
              "    .dataframe thead th {\n",
              "        text-align: right;\n",
              "    }\n",
              "</style>\n",
              "<table border=\"1\" class=\"dataframe\">\n",
              "  <thead>\n",
              "    <tr style=\"text-align: right;\">\n",
              "      <th></th>\n",
              "      <th>image</th>\n",
              "      <th>name</th>\n",
              "      <th>author</th>\n",
              "      <th>format</th>\n",
              "      <th>book_depository_stars</th>\n",
              "      <th>price</th>\n",
              "      <th>currency</th>\n",
              "      <th>old_price</th>\n",
              "      <th>isbn</th>\n",
              "      <th>category</th>\n",
              "      <th>img_paths</th>\n",
              "    </tr>\n",
              "  </thead>\n",
              "  <tbody>\n",
              "    <tr>\n",
              "      <th>0</th>\n",
              "      <td>https://d1w7fb2mkkr3kw.cloudfront.net/assets/i...</td>\n",
              "      <td>This is Going to Hurt</td>\n",
              "      <td>Adam Kay</td>\n",
              "      <td>Paperback</td>\n",
              "      <td>4.5</td>\n",
              "      <td>7.6</td>\n",
              "      <td>$</td>\n",
              "      <td>11.4</td>\n",
              "      <td>9.781510e+12</td>\n",
              "      <td>Medical</td>\n",
              "      <td>dataset/Medical/0000001.jpg</td>\n",
              "    </tr>\n",
              "    <tr>\n",
              "      <th>1</th>\n",
              "      <td>https://d1w7fb2mkkr3kw.cloudfront.net/assets/i...</td>\n",
              "      <td>Thinking, Fast and Slow</td>\n",
              "      <td>Daniel Kahneman</td>\n",
              "      <td>Paperback</td>\n",
              "      <td>4.0</td>\n",
              "      <td>11.5</td>\n",
              "      <td>$</td>\n",
              "      <td>15.0</td>\n",
              "      <td>9.780140e+12</td>\n",
              "      <td>Medical</td>\n",
              "      <td>dataset/Medical/0000002.jpg</td>\n",
              "    </tr>\n",
              "    <tr>\n",
              "      <th>2</th>\n",
              "      <td>https://d1w7fb2mkkr3kw.cloudfront.net/assets/i...</td>\n",
              "      <td>When Breath Becomes Air</td>\n",
              "      <td>Paul Kalanithi</td>\n",
              "      <td>Paperback</td>\n",
              "      <td>4.5</td>\n",
              "      <td>9.05</td>\n",
              "      <td>$</td>\n",
              "      <td>11.5</td>\n",
              "      <td>9.781780e+12</td>\n",
              "      <td>Medical</td>\n",
              "      <td>dataset/Medical/0000003.jpg</td>\n",
              "    </tr>\n",
              "    <tr>\n",
              "      <th>3</th>\n",
              "      <td>https://d1w7fb2mkkr3kw.cloudfront.net/assets/i...</td>\n",
              "      <td>The Happiness Trap</td>\n",
              "      <td>Russ Harris</td>\n",
              "      <td>Paperback</td>\n",
              "      <td>4.0</td>\n",
              "      <td>8.34</td>\n",
              "      <td>$</td>\n",
              "      <td>13.9</td>\n",
              "      <td>9.781850e+12</td>\n",
              "      <td>Medical</td>\n",
              "      <td>dataset/Medical/0000004.jpg</td>\n",
              "    </tr>\n",
              "    <tr>\n",
              "      <th>4</th>\n",
              "      <td>https://d1w7fb2mkkr3kw.cloudfront.net/assets/i...</td>\n",
              "      <td>Man's Search For Meaning</td>\n",
              "      <td>Viktor E. Frankl</td>\n",
              "      <td>Paperback</td>\n",
              "      <td>4.5</td>\n",
              "      <td>9.66</td>\n",
              "      <td>$</td>\n",
              "      <td>NaN</td>\n",
              "      <td>9.781850e+12</td>\n",
              "      <td>Medical</td>\n",
              "      <td>dataset/Medical/0000005.jpg</td>\n",
              "    </tr>\n",
              "  </tbody>\n",
              "</table>\n",
              "</div>"
            ],
            "text/plain": [
              "                                               image  ...                    img_paths\n",
              "0  https://d1w7fb2mkkr3kw.cloudfront.net/assets/i...  ...  dataset/Medical/0000001.jpg\n",
              "1  https://d1w7fb2mkkr3kw.cloudfront.net/assets/i...  ...  dataset/Medical/0000002.jpg\n",
              "2  https://d1w7fb2mkkr3kw.cloudfront.net/assets/i...  ...  dataset/Medical/0000003.jpg\n",
              "3  https://d1w7fb2mkkr3kw.cloudfront.net/assets/i...  ...  dataset/Medical/0000004.jpg\n",
              "4  https://d1w7fb2mkkr3kw.cloudfront.net/assets/i...  ...  dataset/Medical/0000005.jpg\n",
              "\n",
              "[5 rows x 11 columns]"
            ]
          },
          "metadata": {
            "tags": []
          },
          "execution_count": 6
        }
      ]
    },
    {
      "cell_type": "code",
      "metadata": {
        "colab": {
          "base_uri": "https://localhost:8080/"
        },
        "id": "ybZAOnPUswCT",
        "outputId": "d70a2cbb-8c72-47bb-f72c-169277aaafd6"
      },
      "source": [
        "data.shape"
      ],
      "execution_count": null,
      "outputs": [
        {
          "output_type": "execute_result",
          "data": {
            "text/plain": [
              "(32581, 11)"
            ]
          },
          "metadata": {
            "tags": []
          },
          "execution_count": 7
        }
      ]
    },
    {
      "cell_type": "code",
      "metadata": {
        "colab": {
          "base_uri": "https://localhost:8080/",
          "height": 35
        },
        "id": "dKEmNqC6_--L",
        "outputId": "f69234f8-027b-4659-fbab-6cc180dea7fd"
      },
      "source": [
        "data.loc[1]['name']"
      ],
      "execution_count": null,
      "outputs": [
        {
          "output_type": "execute_result",
          "data": {
            "application/vnd.google.colaboratory.intrinsic+json": {
              "type": "string"
            },
            "text/plain": [
              "'Thinking, Fast and Slow'"
            ]
          },
          "metadata": {
            "tags": []
          },
          "execution_count": 8
        }
      ]
    },
    {
      "cell_type": "code",
      "metadata": {
        "colab": {
          "base_uri": "https://localhost:8080/"
        },
        "id": "GvmUYk3Bti2I",
        "outputId": "c3b9ddd8-ec2d-48b3-cafd-f7b36826f536"
      },
      "source": [
        "import nltk\n",
        "nltk.download('punkt')"
      ],
      "execution_count": null,
      "outputs": [
        {
          "output_type": "stream",
          "text": [
            "[nltk_data] Downloading package punkt to /root/nltk_data...\n",
            "[nltk_data]   Unzipping tokenizers/punkt.zip.\n"
          ],
          "name": "stdout"
        },
        {
          "output_type": "execute_result",
          "data": {
            "text/plain": [
              "True"
            ]
          },
          "metadata": {
            "tags": []
          },
          "execution_count": 9
        }
      ]
    },
    {
      "cell_type": "code",
      "metadata": {
        "id": "sgwNSEQjtT46"
      },
      "source": [
        "from nltk.tokenize import word_tokenize"
      ],
      "execution_count": null,
      "outputs": []
    },
    {
      "cell_type": "code",
      "metadata": {
        "id": "SIb4dMCl3RoM"
      },
      "source": [
        "import string"
      ],
      "execution_count": null,
      "outputs": []
    },
    {
      "cell_type": "code",
      "metadata": {
        "id": "FsouAJPzs3lq"
      },
      "source": [
        "l = []\n",
        "for i in range(data.shape[0]):\n",
        "  s = str(data['name'][i]) + \" \" +str(data['author'][i]) +\" \" +str(data['category'][i])\n",
        "  s = s.lower()\n",
        "  s = s.translate(s.maketrans(\"\",\"\",string.punctuation))\n",
        "  s1 = word_tokenize(s)\n",
        "  l.append(s1)"
      ],
      "execution_count": null,
      "outputs": []
    },
    {
      "cell_type": "code",
      "metadata": {
        "id": "UAjgQ70vtNCr"
      },
      "source": [
        "soft_tfidf = SoftTfIdf(l, sim_func=Jaro().get_raw_score, threshold=0.8)"
      ],
      "execution_count": null,
      "outputs": []
    },
    {
      "cell_type": "code",
      "metadata": {
        "colab": {
          "base_uri": "https://localhost:8080/"
        },
        "id": "9TtFwUr3t7wm",
        "outputId": "0c41c2cc-db06-4a34-97ba-c0962a26538d"
      },
      "source": [
        "t = 0\n",
        "s = 0\n",
        "for i in l:\n",
        "  m = soft_tfidf.get_raw_score(i,['paul', 'kalanithi'])\n",
        "  if t<m:\n",
        "    t = m\n",
        "    s = i\n",
        "print(t,s)"
      ],
      "execution_count": null,
      "outputs": [
        {
          "output_type": "stream",
          "text": [
            "0.671779978329045 ['when', 'breath', 'becomes', 'air', 'paul', 'kalanithi', 'health']\n"
          ],
          "name": "stdout"
        }
      ]
    },
    {
      "cell_type": "code",
      "metadata": {
        "id": "vAgJu2HyuRnz"
      },
      "source": [
        "cols = [\"Score\",\"Name\",\"Author\",\"Category\",\"ISBN\",\"image_url\"]\n",
        "scores = pd.DataFrame(columns=cols)"
      ],
      "execution_count": null,
      "outputs": []
    },
    {
      "cell_type": "code",
      "metadata": {
        "colab": {
          "base_uri": "https://localhost:8080/",
          "height": 47
        },
        "id": "QmTTZVC38ZT2",
        "outputId": "2b739f8d-0b96-4d3b-838c-6ee8c62ea7c4"
      },
      "source": [
        "scores"
      ],
      "execution_count": null,
      "outputs": [
        {
          "output_type": "execute_result",
          "data": {
            "text/html": [
              "<div>\n",
              "<style scoped>\n",
              "    .dataframe tbody tr th:only-of-type {\n",
              "        vertical-align: middle;\n",
              "    }\n",
              "\n",
              "    .dataframe tbody tr th {\n",
              "        vertical-align: top;\n",
              "    }\n",
              "\n",
              "    .dataframe thead th {\n",
              "        text-align: right;\n",
              "    }\n",
              "</style>\n",
              "<table border=\"1\" class=\"dataframe\">\n",
              "  <thead>\n",
              "    <tr style=\"text-align: right;\">\n",
              "      <th></th>\n",
              "      <th>Score</th>\n",
              "      <th>Name</th>\n",
              "      <th>Author</th>\n",
              "      <th>Category</th>\n",
              "      <th>ISBN</th>\n",
              "      <th>image_url</th>\n",
              "    </tr>\n",
              "  </thead>\n",
              "  <tbody>\n",
              "  </tbody>\n",
              "</table>\n",
              "</div>"
            ],
            "text/plain": [
              "Empty DataFrame\n",
              "Columns: [Score, Name, Author, Category, ISBN, image_url]\n",
              "Index: []"
            ]
          },
          "metadata": {
            "tags": []
          },
          "execution_count": 16
        }
      ]
    },
    {
      "cell_type": "code",
      "metadata": {
        "id": "byUjwwjN8Z2U",
        "colab": {
          "base_uri": "https://localhost:8080/",
          "height": 421
        },
        "outputId": "caa0aaf1-4e1b-4e3d-a06a-5dc8b0cb5715"
      },
      "source": [
        "for i in range(len(l)):\n",
        "  m = soft_tfidf.get_raw_score(l[i],['paul', 'kalanithi'])\n",
        "  scores.loc[len(scores)] = [m,data.loc[i]['name'],data.loc[i]['author'],data.loc[i]['category'],data.loc[i]['isbn'],data.loc[i]['image']]"
      ],
      "execution_count": null,
      "outputs": [
        {
          "output_type": "error",
          "ename": "KeyboardInterrupt",
          "evalue": "ignored",
          "traceback": [
            "\u001b[0;31m---------------------------------------------------------------------------\u001b[0m",
            "\u001b[0;31mKeyboardInterrupt\u001b[0m                         Traceback (most recent call last)",
            "\u001b[0;32m<ipython-input-17-627ac52fce18>\u001b[0m in \u001b[0;36m<module>\u001b[0;34m()\u001b[0m\n\u001b[1;32m      1\u001b[0m \u001b[0;32mfor\u001b[0m \u001b[0mi\u001b[0m \u001b[0;32min\u001b[0m \u001b[0mrange\u001b[0m\u001b[0;34m(\u001b[0m\u001b[0mlen\u001b[0m\u001b[0;34m(\u001b[0m\u001b[0ml\u001b[0m\u001b[0;34m)\u001b[0m\u001b[0;34m)\u001b[0m\u001b[0;34m:\u001b[0m\u001b[0;34m\u001b[0m\u001b[0;34m\u001b[0m\u001b[0m\n\u001b[1;32m      2\u001b[0m   \u001b[0mm\u001b[0m \u001b[0;34m=\u001b[0m \u001b[0msoft_tfidf\u001b[0m\u001b[0;34m.\u001b[0m\u001b[0mget_raw_score\u001b[0m\u001b[0;34m(\u001b[0m\u001b[0ml\u001b[0m\u001b[0;34m[\u001b[0m\u001b[0mi\u001b[0m\u001b[0;34m]\u001b[0m\u001b[0;34m,\u001b[0m\u001b[0;34m[\u001b[0m\u001b[0;34m'paul'\u001b[0m\u001b[0;34m,\u001b[0m \u001b[0;34m'kalanithi'\u001b[0m\u001b[0;34m]\u001b[0m\u001b[0;34m)\u001b[0m\u001b[0;34m\u001b[0m\u001b[0;34m\u001b[0m\u001b[0m\n\u001b[0;32m----> 3\u001b[0;31m   \u001b[0mscores\u001b[0m\u001b[0;34m.\u001b[0m\u001b[0mloc\u001b[0m\u001b[0;34m[\u001b[0m\u001b[0mlen\u001b[0m\u001b[0;34m(\u001b[0m\u001b[0mscores\u001b[0m\u001b[0;34m)\u001b[0m\u001b[0;34m]\u001b[0m \u001b[0;34m=\u001b[0m \u001b[0;34m[\u001b[0m\u001b[0mm\u001b[0m\u001b[0;34m,\u001b[0m\u001b[0mdata\u001b[0m\u001b[0;34m.\u001b[0m\u001b[0mloc\u001b[0m\u001b[0;34m[\u001b[0m\u001b[0mi\u001b[0m\u001b[0;34m]\u001b[0m\u001b[0;34m[\u001b[0m\u001b[0;34m'name'\u001b[0m\u001b[0;34m]\u001b[0m\u001b[0;34m,\u001b[0m\u001b[0mdata\u001b[0m\u001b[0;34m.\u001b[0m\u001b[0mloc\u001b[0m\u001b[0;34m[\u001b[0m\u001b[0mi\u001b[0m\u001b[0;34m]\u001b[0m\u001b[0;34m[\u001b[0m\u001b[0;34m'author'\u001b[0m\u001b[0;34m]\u001b[0m\u001b[0;34m,\u001b[0m\u001b[0mdata\u001b[0m\u001b[0;34m.\u001b[0m\u001b[0mloc\u001b[0m\u001b[0;34m[\u001b[0m\u001b[0mi\u001b[0m\u001b[0;34m]\u001b[0m\u001b[0;34m[\u001b[0m\u001b[0;34m'category'\u001b[0m\u001b[0;34m]\u001b[0m\u001b[0;34m,\u001b[0m\u001b[0mdata\u001b[0m\u001b[0;34m.\u001b[0m\u001b[0mloc\u001b[0m\u001b[0;34m[\u001b[0m\u001b[0mi\u001b[0m\u001b[0;34m]\u001b[0m\u001b[0;34m[\u001b[0m\u001b[0;34m'isbn'\u001b[0m\u001b[0;34m]\u001b[0m\u001b[0;34m,\u001b[0m\u001b[0mdata\u001b[0m\u001b[0;34m.\u001b[0m\u001b[0mloc\u001b[0m\u001b[0;34m[\u001b[0m\u001b[0mi\u001b[0m\u001b[0;34m]\u001b[0m\u001b[0;34m[\u001b[0m\u001b[0;34m'image'\u001b[0m\u001b[0;34m]\u001b[0m\u001b[0;34m]\u001b[0m\u001b[0;34m\u001b[0m\u001b[0;34m\u001b[0m\u001b[0m\n\u001b[0m",
            "\u001b[0;32m/usr/local/lib/python3.7/dist-packages/pandas/core/indexing.py\u001b[0m in \u001b[0;36m__setitem__\u001b[0;34m(self, key, value)\u001b[0m\n\u001b[1;32m    668\u001b[0m \u001b[0;34m\u001b[0m\u001b[0m\n\u001b[1;32m    669\u001b[0m         \u001b[0miloc\u001b[0m \u001b[0;34m=\u001b[0m \u001b[0mself\u001b[0m \u001b[0;32mif\u001b[0m \u001b[0mself\u001b[0m\u001b[0;34m.\u001b[0m\u001b[0mname\u001b[0m \u001b[0;34m==\u001b[0m \u001b[0;34m\"iloc\"\u001b[0m \u001b[0;32melse\u001b[0m \u001b[0mself\u001b[0m\u001b[0;34m.\u001b[0m\u001b[0mobj\u001b[0m\u001b[0;34m.\u001b[0m\u001b[0miloc\u001b[0m\u001b[0;34m\u001b[0m\u001b[0;34m\u001b[0m\u001b[0m\n\u001b[0;32m--> 670\u001b[0;31m         \u001b[0miloc\u001b[0m\u001b[0;34m.\u001b[0m\u001b[0m_setitem_with_indexer\u001b[0m\u001b[0;34m(\u001b[0m\u001b[0mindexer\u001b[0m\u001b[0;34m,\u001b[0m \u001b[0mvalue\u001b[0m\u001b[0;34m)\u001b[0m\u001b[0;34m\u001b[0m\u001b[0;34m\u001b[0m\u001b[0m\n\u001b[0m\u001b[1;32m    671\u001b[0m \u001b[0;34m\u001b[0m\u001b[0m\n\u001b[1;32m    672\u001b[0m     \u001b[0;32mdef\u001b[0m \u001b[0m_validate_key\u001b[0m\u001b[0;34m(\u001b[0m\u001b[0mself\u001b[0m\u001b[0;34m,\u001b[0m \u001b[0mkey\u001b[0m\u001b[0;34m,\u001b[0m \u001b[0maxis\u001b[0m\u001b[0;34m:\u001b[0m \u001b[0mint\u001b[0m\u001b[0;34m)\u001b[0m\u001b[0;34m:\u001b[0m\u001b[0;34m\u001b[0m\u001b[0;34m\u001b[0m\u001b[0m\n",
            "\u001b[0;32m/usr/local/lib/python3.7/dist-packages/pandas/core/indexing.py\u001b[0m in \u001b[0;36m_setitem_with_indexer\u001b[0;34m(self, indexer, value)\u001b[0m\n\u001b[1;32m   1540\u001b[0m \u001b[0;34m\u001b[0m\u001b[0m\n\u001b[1;32m   1541\u001b[0m         \u001b[0;31m# maybe partial set\u001b[0m\u001b[0;34m\u001b[0m\u001b[0;34m\u001b[0m\u001b[0;34m\u001b[0m\u001b[0m\n\u001b[0;32m-> 1542\u001b[0;31m         \u001b[0mtake_split_path\u001b[0m \u001b[0;34m=\u001b[0m \u001b[0mself\u001b[0m\u001b[0;34m.\u001b[0m\u001b[0mobj\u001b[0m\u001b[0;34m.\u001b[0m\u001b[0m_is_mixed_type\u001b[0m\u001b[0;34m\u001b[0m\u001b[0;34m\u001b[0m\u001b[0m\n\u001b[0m\u001b[1;32m   1543\u001b[0m \u001b[0;34m\u001b[0m\u001b[0m\n\u001b[1;32m   1544\u001b[0m         \u001b[0;31m# if there is only one block/type, still have to take split path\u001b[0m\u001b[0;34m\u001b[0m\u001b[0;34m\u001b[0m\u001b[0;34m\u001b[0m\u001b[0m\n",
            "\u001b[0;32m/usr/local/lib/python3.7/dist-packages/pandas/core/generic.py\u001b[0m in \u001b[0;36m_is_mixed_type\u001b[0;34m(self)\u001b[0m\n\u001b[1;32m   5241\u001b[0m     \u001b[0;32mdef\u001b[0m \u001b[0m_is_mixed_type\u001b[0m\u001b[0;34m(\u001b[0m\u001b[0mself\u001b[0m\u001b[0;34m)\u001b[0m \u001b[0;34m->\u001b[0m \u001b[0mbool_t\u001b[0m\u001b[0;34m:\u001b[0m\u001b[0;34m\u001b[0m\u001b[0;34m\u001b[0m\u001b[0m\n\u001b[1;32m   5242\u001b[0m         \u001b[0mf\u001b[0m \u001b[0;34m=\u001b[0m \u001b[0;32mlambda\u001b[0m\u001b[0;34m:\u001b[0m \u001b[0mself\u001b[0m\u001b[0;34m.\u001b[0m\u001b[0m_mgr\u001b[0m\u001b[0;34m.\u001b[0m\u001b[0mis_mixed_type\u001b[0m\u001b[0;34m\u001b[0m\u001b[0;34m\u001b[0m\u001b[0m\n\u001b[0;32m-> 5243\u001b[0;31m         \u001b[0;32mreturn\u001b[0m \u001b[0mself\u001b[0m\u001b[0;34m.\u001b[0m\u001b[0m_protect_consolidate\u001b[0m\u001b[0;34m(\u001b[0m\u001b[0mf\u001b[0m\u001b[0;34m)\u001b[0m\u001b[0;34m\u001b[0m\u001b[0;34m\u001b[0m\u001b[0m\n\u001b[0m\u001b[1;32m   5244\u001b[0m \u001b[0;34m\u001b[0m\u001b[0m\n\u001b[1;32m   5245\u001b[0m     \u001b[0;32mdef\u001b[0m \u001b[0m_check_inplace_setting\u001b[0m\u001b[0;34m(\u001b[0m\u001b[0mself\u001b[0m\u001b[0;34m,\u001b[0m \u001b[0mvalue\u001b[0m\u001b[0;34m)\u001b[0m \u001b[0;34m->\u001b[0m \u001b[0mbool_t\u001b[0m\u001b[0;34m:\u001b[0m\u001b[0;34m\u001b[0m\u001b[0;34m\u001b[0m\u001b[0m\n",
            "\u001b[0;32m/usr/local/lib/python3.7/dist-packages/pandas/core/generic.py\u001b[0m in \u001b[0;36m_protect_consolidate\u001b[0;34m(self, f)\u001b[0m\n\u001b[1;32m   5203\u001b[0m         \"\"\"\n\u001b[1;32m   5204\u001b[0m         \u001b[0mblocks_before\u001b[0m \u001b[0;34m=\u001b[0m \u001b[0mlen\u001b[0m\u001b[0;34m(\u001b[0m\u001b[0mself\u001b[0m\u001b[0;34m.\u001b[0m\u001b[0m_mgr\u001b[0m\u001b[0;34m.\u001b[0m\u001b[0mblocks\u001b[0m\u001b[0;34m)\u001b[0m\u001b[0;34m\u001b[0m\u001b[0;34m\u001b[0m\u001b[0m\n\u001b[0;32m-> 5205\u001b[0;31m         \u001b[0mresult\u001b[0m \u001b[0;34m=\u001b[0m \u001b[0mf\u001b[0m\u001b[0;34m(\u001b[0m\u001b[0;34m)\u001b[0m\u001b[0;34m\u001b[0m\u001b[0;34m\u001b[0m\u001b[0m\n\u001b[0m\u001b[1;32m   5206\u001b[0m         \u001b[0;32mif\u001b[0m \u001b[0mlen\u001b[0m\u001b[0;34m(\u001b[0m\u001b[0mself\u001b[0m\u001b[0;34m.\u001b[0m\u001b[0m_mgr\u001b[0m\u001b[0;34m.\u001b[0m\u001b[0mblocks\u001b[0m\u001b[0;34m)\u001b[0m \u001b[0;34m!=\u001b[0m \u001b[0mblocks_before\u001b[0m\u001b[0;34m:\u001b[0m\u001b[0;34m\u001b[0m\u001b[0;34m\u001b[0m\u001b[0m\n\u001b[1;32m   5207\u001b[0m             \u001b[0mself\u001b[0m\u001b[0;34m.\u001b[0m\u001b[0m_clear_item_cache\u001b[0m\u001b[0;34m(\u001b[0m\u001b[0;34m)\u001b[0m\u001b[0;34m\u001b[0m\u001b[0;34m\u001b[0m\u001b[0m\n",
            "\u001b[0;32m/usr/local/lib/python3.7/dist-packages/pandas/core/generic.py\u001b[0m in \u001b[0;36m<lambda>\u001b[0;34m()\u001b[0m\n\u001b[1;32m   5240\u001b[0m     \u001b[0;34m@\u001b[0m\u001b[0mproperty\u001b[0m\u001b[0;34m\u001b[0m\u001b[0;34m\u001b[0m\u001b[0m\n\u001b[1;32m   5241\u001b[0m     \u001b[0;32mdef\u001b[0m \u001b[0m_is_mixed_type\u001b[0m\u001b[0;34m(\u001b[0m\u001b[0mself\u001b[0m\u001b[0;34m)\u001b[0m \u001b[0;34m->\u001b[0m \u001b[0mbool_t\u001b[0m\u001b[0;34m:\u001b[0m\u001b[0;34m\u001b[0m\u001b[0;34m\u001b[0m\u001b[0m\n\u001b[0;32m-> 5242\u001b[0;31m         \u001b[0mf\u001b[0m \u001b[0;34m=\u001b[0m \u001b[0;32mlambda\u001b[0m\u001b[0;34m:\u001b[0m \u001b[0mself\u001b[0m\u001b[0;34m.\u001b[0m\u001b[0m_mgr\u001b[0m\u001b[0;34m.\u001b[0m\u001b[0mis_mixed_type\u001b[0m\u001b[0;34m\u001b[0m\u001b[0;34m\u001b[0m\u001b[0m\n\u001b[0m\u001b[1;32m   5243\u001b[0m         \u001b[0;32mreturn\u001b[0m \u001b[0mself\u001b[0m\u001b[0;34m.\u001b[0m\u001b[0m_protect_consolidate\u001b[0m\u001b[0;34m(\u001b[0m\u001b[0mf\u001b[0m\u001b[0;34m)\u001b[0m\u001b[0;34m\u001b[0m\u001b[0;34m\u001b[0m\u001b[0m\n\u001b[1;32m   5244\u001b[0m \u001b[0;34m\u001b[0m\u001b[0m\n",
            "\u001b[0;32m/usr/local/lib/python3.7/dist-packages/pandas/core/internals/managers.py\u001b[0m in \u001b[0;36mis_mixed_type\u001b[0;34m(self)\u001b[0m\n\u001b[1;32m    698\u001b[0m     \u001b[0;32mdef\u001b[0m \u001b[0mis_mixed_type\u001b[0m\u001b[0;34m(\u001b[0m\u001b[0mself\u001b[0m\u001b[0;34m)\u001b[0m \u001b[0;34m->\u001b[0m \u001b[0mbool\u001b[0m\u001b[0;34m:\u001b[0m\u001b[0;34m\u001b[0m\u001b[0;34m\u001b[0m\u001b[0m\n\u001b[1;32m    699\u001b[0m         \u001b[0;31m# Warning, consolidation needs to get checked upstairs\u001b[0m\u001b[0;34m\u001b[0m\u001b[0;34m\u001b[0m\u001b[0;34m\u001b[0m\u001b[0m\n\u001b[0;32m--> 700\u001b[0;31m         \u001b[0mself\u001b[0m\u001b[0;34m.\u001b[0m\u001b[0m_consolidate_inplace\u001b[0m\u001b[0;34m(\u001b[0m\u001b[0;34m)\u001b[0m\u001b[0;34m\u001b[0m\u001b[0;34m\u001b[0m\u001b[0m\n\u001b[0m\u001b[1;32m    701\u001b[0m         \u001b[0;32mreturn\u001b[0m \u001b[0mlen\u001b[0m\u001b[0;34m(\u001b[0m\u001b[0mself\u001b[0m\u001b[0;34m.\u001b[0m\u001b[0mblocks\u001b[0m\u001b[0;34m)\u001b[0m \u001b[0;34m>\u001b[0m \u001b[0;36m1\u001b[0m\u001b[0;34m\u001b[0m\u001b[0;34m\u001b[0m\u001b[0m\n\u001b[1;32m    702\u001b[0m \u001b[0;34m\u001b[0m\u001b[0m\n",
            "\u001b[0;32m/usr/local/lib/python3.7/dist-packages/pandas/core/internals/managers.py\u001b[0m in \u001b[0;36m_consolidate_inplace\u001b[0;34m(self)\u001b[0m\n\u001b[1;32m    986\u001b[0m     \u001b[0;32mdef\u001b[0m \u001b[0m_consolidate_inplace\u001b[0m\u001b[0;34m(\u001b[0m\u001b[0mself\u001b[0m\u001b[0;34m)\u001b[0m \u001b[0;34m->\u001b[0m \u001b[0;32mNone\u001b[0m\u001b[0;34m:\u001b[0m\u001b[0;34m\u001b[0m\u001b[0;34m\u001b[0m\u001b[0m\n\u001b[1;32m    987\u001b[0m         \u001b[0;32mif\u001b[0m \u001b[0;32mnot\u001b[0m \u001b[0mself\u001b[0m\u001b[0;34m.\u001b[0m\u001b[0mis_consolidated\u001b[0m\u001b[0;34m(\u001b[0m\u001b[0;34m)\u001b[0m\u001b[0;34m:\u001b[0m\u001b[0;34m\u001b[0m\u001b[0;34m\u001b[0m\u001b[0m\n\u001b[0;32m--> 988\u001b[0;31m             \u001b[0mself\u001b[0m\u001b[0;34m.\u001b[0m\u001b[0mblocks\u001b[0m \u001b[0;34m=\u001b[0m \u001b[0mtuple\u001b[0m\u001b[0;34m(\u001b[0m\u001b[0m_consolidate\u001b[0m\u001b[0;34m(\u001b[0m\u001b[0mself\u001b[0m\u001b[0;34m.\u001b[0m\u001b[0mblocks\u001b[0m\u001b[0;34m)\u001b[0m\u001b[0;34m)\u001b[0m\u001b[0;34m\u001b[0m\u001b[0;34m\u001b[0m\u001b[0m\n\u001b[0m\u001b[1;32m    989\u001b[0m             \u001b[0mself\u001b[0m\u001b[0;34m.\u001b[0m\u001b[0m_is_consolidated\u001b[0m \u001b[0;34m=\u001b[0m \u001b[0;32mTrue\u001b[0m\u001b[0;34m\u001b[0m\u001b[0;34m\u001b[0m\u001b[0m\n\u001b[1;32m    990\u001b[0m             \u001b[0mself\u001b[0m\u001b[0;34m.\u001b[0m\u001b[0m_known_consolidated\u001b[0m \u001b[0;34m=\u001b[0m \u001b[0;32mTrue\u001b[0m\u001b[0;34m\u001b[0m\u001b[0;34m\u001b[0m\u001b[0m\n",
            "\u001b[0;32m/usr/local/lib/python3.7/dist-packages/pandas/core/internals/managers.py\u001b[0m in \u001b[0;36m_consolidate\u001b[0;34m(blocks)\u001b[0m\n\u001b[1;32m   1907\u001b[0m     \u001b[0;32mfor\u001b[0m \u001b[0;34m(\u001b[0m\u001b[0m_can_consolidate\u001b[0m\u001b[0;34m,\u001b[0m \u001b[0mdtype\u001b[0m\u001b[0;34m)\u001b[0m\u001b[0;34m,\u001b[0m \u001b[0mgroup_blocks\u001b[0m \u001b[0;32min\u001b[0m \u001b[0mgrouper\u001b[0m\u001b[0;34m:\u001b[0m\u001b[0;34m\u001b[0m\u001b[0;34m\u001b[0m\u001b[0m\n\u001b[1;32m   1908\u001b[0m         merged_blocks = _merge_blocks(\n\u001b[0;32m-> 1909\u001b[0;31m             \u001b[0mlist\u001b[0m\u001b[0;34m(\u001b[0m\u001b[0mgroup_blocks\u001b[0m\u001b[0;34m)\u001b[0m\u001b[0;34m,\u001b[0m \u001b[0mdtype\u001b[0m\u001b[0;34m=\u001b[0m\u001b[0mdtype\u001b[0m\u001b[0;34m,\u001b[0m \u001b[0mcan_consolidate\u001b[0m\u001b[0;34m=\u001b[0m\u001b[0m_can_consolidate\u001b[0m\u001b[0;34m\u001b[0m\u001b[0;34m\u001b[0m\u001b[0m\n\u001b[0m\u001b[1;32m   1910\u001b[0m         )\n\u001b[1;32m   1911\u001b[0m         \u001b[0mnew_blocks\u001b[0m \u001b[0;34m=\u001b[0m \u001b[0m_extend_blocks\u001b[0m\u001b[0;34m(\u001b[0m\u001b[0mmerged_blocks\u001b[0m\u001b[0;34m,\u001b[0m \u001b[0mnew_blocks\u001b[0m\u001b[0;34m)\u001b[0m\u001b[0;34m\u001b[0m\u001b[0;34m\u001b[0m\u001b[0m\n",
            "\u001b[0;32m/usr/local/lib/python3.7/dist-packages/pandas/core/internals/managers.py\u001b[0m in \u001b[0;36m_merge_blocks\u001b[0;34m(blocks, dtype, can_consolidate)\u001b[0m\n\u001b[1;32m   1929\u001b[0m         \u001b[0;31m# combination of those slices is a slice, too.\u001b[0m\u001b[0;34m\u001b[0m\u001b[0;34m\u001b[0m\u001b[0;34m\u001b[0m\u001b[0m\n\u001b[1;32m   1930\u001b[0m         \u001b[0mnew_mgr_locs\u001b[0m \u001b[0;34m=\u001b[0m \u001b[0mnp\u001b[0m\u001b[0;34m.\u001b[0m\u001b[0mconcatenate\u001b[0m\u001b[0;34m(\u001b[0m\u001b[0;34m[\u001b[0m\u001b[0mb\u001b[0m\u001b[0;34m.\u001b[0m\u001b[0mmgr_locs\u001b[0m\u001b[0;34m.\u001b[0m\u001b[0mas_array\u001b[0m \u001b[0;32mfor\u001b[0m \u001b[0mb\u001b[0m \u001b[0;32min\u001b[0m \u001b[0mblocks\u001b[0m\u001b[0;34m]\u001b[0m\u001b[0;34m)\u001b[0m\u001b[0;34m\u001b[0m\u001b[0;34m\u001b[0m\u001b[0m\n\u001b[0;32m-> 1931\u001b[0;31m         \u001b[0mnew_values\u001b[0m \u001b[0;34m=\u001b[0m \u001b[0mnp\u001b[0m\u001b[0;34m.\u001b[0m\u001b[0mvstack\u001b[0m\u001b[0;34m(\u001b[0m\u001b[0;34m[\u001b[0m\u001b[0mb\u001b[0m\u001b[0;34m.\u001b[0m\u001b[0mvalues\u001b[0m \u001b[0;32mfor\u001b[0m \u001b[0mb\u001b[0m \u001b[0;32min\u001b[0m \u001b[0mblocks\u001b[0m\u001b[0;34m]\u001b[0m\u001b[0;34m)\u001b[0m\u001b[0;34m\u001b[0m\u001b[0;34m\u001b[0m\u001b[0m\n\u001b[0m\u001b[1;32m   1932\u001b[0m \u001b[0;34m\u001b[0m\u001b[0m\n\u001b[1;32m   1933\u001b[0m         \u001b[0margsort\u001b[0m \u001b[0;34m=\u001b[0m \u001b[0mnp\u001b[0m\u001b[0;34m.\u001b[0m\u001b[0margsort\u001b[0m\u001b[0;34m(\u001b[0m\u001b[0mnew_mgr_locs\u001b[0m\u001b[0;34m)\u001b[0m\u001b[0;34m\u001b[0m\u001b[0;34m\u001b[0m\u001b[0m\n",
            "\u001b[0;32m<__array_function__ internals>\u001b[0m in \u001b[0;36mvstack\u001b[0;34m(*args, **kwargs)\u001b[0m\n",
            "\u001b[0;32m/usr/local/lib/python3.7/dist-packages/numpy/core/shape_base.py\u001b[0m in \u001b[0;36mvstack\u001b[0;34m(tup)\u001b[0m\n\u001b[1;32m    281\u001b[0m     \u001b[0;32mif\u001b[0m \u001b[0;32mnot\u001b[0m \u001b[0misinstance\u001b[0m\u001b[0;34m(\u001b[0m\u001b[0marrs\u001b[0m\u001b[0;34m,\u001b[0m \u001b[0mlist\u001b[0m\u001b[0;34m)\u001b[0m\u001b[0;34m:\u001b[0m\u001b[0;34m\u001b[0m\u001b[0;34m\u001b[0m\u001b[0m\n\u001b[1;32m    282\u001b[0m         \u001b[0marrs\u001b[0m \u001b[0;34m=\u001b[0m \u001b[0;34m[\u001b[0m\u001b[0marrs\u001b[0m\u001b[0;34m]\u001b[0m\u001b[0;34m\u001b[0m\u001b[0;34m\u001b[0m\u001b[0m\n\u001b[0;32m--> 283\u001b[0;31m     \u001b[0;32mreturn\u001b[0m \u001b[0m_nx\u001b[0m\u001b[0;34m.\u001b[0m\u001b[0mconcatenate\u001b[0m\u001b[0;34m(\u001b[0m\u001b[0marrs\u001b[0m\u001b[0;34m,\u001b[0m \u001b[0;36m0\u001b[0m\u001b[0;34m)\u001b[0m\u001b[0;34m\u001b[0m\u001b[0;34m\u001b[0m\u001b[0m\n\u001b[0m\u001b[1;32m    284\u001b[0m \u001b[0;34m\u001b[0m\u001b[0m\n\u001b[1;32m    285\u001b[0m \u001b[0;34m\u001b[0m\u001b[0m\n",
            "\u001b[0;32m<__array_function__ internals>\u001b[0m in \u001b[0;36mconcatenate\u001b[0;34m(*args, **kwargs)\u001b[0m\n",
            "\u001b[0;31mKeyboardInterrupt\u001b[0m: "
          ]
        }
      ]
    },
    {
      "cell_type": "code",
      "metadata": {
        "id": "qUmA_vYd8ofY"
      },
      "source": [
        "scores"
      ],
      "execution_count": null,
      "outputs": []
    },
    {
      "cell_type": "code",
      "metadata": {
        "id": "Tp21c9i59GGv"
      },
      "source": [
        "s1  = scores.sort_values('Score',ascending=False)"
      ],
      "execution_count": null,
      "outputs": []
    },
    {
      "cell_type": "code",
      "metadata": {
        "id": "F_cTQGq29Vch"
      },
      "source": [
        "s1.head(50)"
      ],
      "execution_count": null,
      "outputs": []
    },
    {
      "cell_type": "code",
      "metadata": {
        "id": "t8pcCx9T9Zct"
      },
      "source": [
        "def book_recommendation_based_on_text_similarity(sen):\n",
        "  sen = word_tokenize(sen)\n",
        "  cols = [\"Score\",\"Name\",\"Author\",\"Category\",\"ISBN\",\"image_url\"]\n",
        "  scores = pd.DataFrame(columns=cols)\n",
        "  for i in range(len(l)):\n",
        "    m = soft_tfidf.get_raw_score(l[i],sen)\n",
        "    scores.loc[len(scores)] = [m,data.loc[i]['name'],data.loc[i]['author'],data.loc[i]['category'],data.loc[i]['isbn'],data.loc[i]['image']]\n",
        "  s1  = scores.sort_values('Score',ascending=False)\n",
        "  return s1.head(50)"
      ],
      "execution_count": null,
      "outputs": []
    },
    {
      "cell_type": "code",
      "metadata": {
        "id": "tf0YJXOcd2hl",
        "colab": {
          "base_uri": "https://localhost:8080/",
          "height": 1000
        },
        "outputId": "8cbefee3-1cb8-48c7-acf8-3410c53524d8"
      },
      "source": [
        "book_recommendation_based_on_text_similarity(\"sha\")"
      ],
      "execution_count": null,
      "outputs": [
        {
          "output_type": "execute_result",
          "data": {
            "text/html": [
              "<div>\n",
              "<style scoped>\n",
              "    .dataframe tbody tr th:only-of-type {\n",
              "        vertical-align: middle;\n",
              "    }\n",
              "\n",
              "    .dataframe tbody tr th {\n",
              "        vertical-align: top;\n",
              "    }\n",
              "\n",
              "    .dataframe thead th {\n",
              "        text-align: right;\n",
              "    }\n",
              "</style>\n",
              "<table border=\"1\" class=\"dataframe\">\n",
              "  <thead>\n",
              "    <tr style=\"text-align: right;\">\n",
              "      <th></th>\n",
              "      <th>Score</th>\n",
              "      <th>Name</th>\n",
              "      <th>Author</th>\n",
              "      <th>Category</th>\n",
              "      <th>ISBN</th>\n",
              "      <th>image_url</th>\n",
              "    </tr>\n",
              "  </thead>\n",
              "  <tbody>\n",
              "    <tr>\n",
              "      <th>14525</th>\n",
              "      <td>1.170815</td>\n",
              "      <td>Shah of Shahs</td>\n",
              "      <td>Ryszard Kapuscinski</td>\n",
              "      <td>History-Archaeology</td>\n",
              "      <td>9.780140e+12</td>\n",
              "      <td>https://d1w7fb2mkkr3kw.cloudfront.net/assets/i...</td>\n",
              "    </tr>\n",
              "    <tr>\n",
              "      <th>24091</th>\n",
              "      <td>0.877929</td>\n",
              "      <td>A Darker Shade of Magic</td>\n",
              "      <td>V E Schwab</td>\n",
              "      <td>Science-Fiction-Fantasy-Horror</td>\n",
              "      <td>9.780770e+12</td>\n",
              "      <td>https://d1w7fb2mkkr3kw.cloudfront.net/assets/i...</td>\n",
              "    </tr>\n",
              "    <tr>\n",
              "      <th>23745</th>\n",
              "      <td>0.877929</td>\n",
              "      <td>A Darker Shade of Magic</td>\n",
              "      <td>V. E. Schwab</td>\n",
              "      <td>Science-Fiction-Fantasy-Horror</td>\n",
              "      <td>9.781780e+12</td>\n",
              "      <td>https://d1w7fb2mkkr3kw.cloudfront.net/assets/i...</td>\n",
              "    </tr>\n",
              "    <tr>\n",
              "      <th>24340</th>\n",
              "      <td>0.877929</td>\n",
              "      <td>A Darker Shade of Magic</td>\n",
              "      <td>V E Schwab</td>\n",
              "      <td>Science-Fiction-Fantasy-Horror</td>\n",
              "      <td>9.780770e+12</td>\n",
              "      <td>https://d1w7fb2mkkr3kw.cloudfront.net/assets/i...</td>\n",
              "    </tr>\n",
              "    <tr>\n",
              "      <th>7934</th>\n",
              "      <td>0.877929</td>\n",
              "      <td>A Darker Shade of Magic</td>\n",
              "      <td>V. E. Schwab</td>\n",
              "      <td>Crime-Thriller</td>\n",
              "      <td>9.781780e+12</td>\n",
              "      <td>https://d1w7fb2mkkr3kw.cloudfront.net/assets/i...</td>\n",
              "    </tr>\n",
              "    <tr>\n",
              "      <th>21736</th>\n",
              "      <td>0.864817</td>\n",
              "      <td>The Shack</td>\n",
              "      <td>William P. Young</td>\n",
              "      <td>Religion</td>\n",
              "      <td>9.780340e+12</td>\n",
              "      <td>https://d1w7fb2mkkr3kw.cloudfront.net/assets/i...</td>\n",
              "    </tr>\n",
              "    <tr>\n",
              "      <th>21890</th>\n",
              "      <td>0.864817</td>\n",
              "      <td>The Shack</td>\n",
              "      <td>William P. Young</td>\n",
              "      <td>Religion</td>\n",
              "      <td>9.780960e+12</td>\n",
              "      <td>https://d1w7fb2mkkr3kw.cloudfront.net/assets/i...</td>\n",
              "    </tr>\n",
              "    <tr>\n",
              "      <th>8794</th>\n",
              "      <td>0.864817</td>\n",
              "      <td>The Shack</td>\n",
              "      <td>William P. Young</td>\n",
              "      <td>Crime-Thriller</td>\n",
              "      <td>9.781460e+12</td>\n",
              "      <td>https://d1w7fb2mkkr3kw.cloudfront.net/assets/i...</td>\n",
              "    </tr>\n",
              "    <tr>\n",
              "      <th>7937</th>\n",
              "      <td>0.864817</td>\n",
              "      <td>The Shack</td>\n",
              "      <td>William P. Young</td>\n",
              "      <td>Crime-Thriller</td>\n",
              "      <td>9.780340e+12</td>\n",
              "      <td>https://d1w7fb2mkkr3kw.cloudfront.net/assets/i...</td>\n",
              "    </tr>\n",
              "    <tr>\n",
              "      <th>18409</th>\n",
              "      <td>0.859566</td>\n",
              "      <td>The Shark That Walks on Land</td>\n",
              "      <td>Michael Bright</td>\n",
              "      <td>Natural-History</td>\n",
              "      <td>9.781850e+12</td>\n",
              "      <td>https://d1w7fb2mkkr3kw.cloudfront.net/assets/i...</td>\n",
              "    </tr>\n",
              "    <tr>\n",
              "      <th>24006</th>\n",
              "      <td>0.857627</td>\n",
              "      <td>A Darker Shade of Magic Collector's Edition</td>\n",
              "      <td>V E Schwab</td>\n",
              "      <td>Science-Fiction-Fantasy-Horror</td>\n",
              "      <td>9.780770e+12</td>\n",
              "      <td>https://d1w7fb2mkkr3kw.cloudfront.net/assets/i...</td>\n",
              "    </tr>\n",
              "    <tr>\n",
              "      <th>30128</th>\n",
              "      <td>0.841992</td>\n",
              "      <td>I Shall Wear Midnight</td>\n",
              "      <td>Terry Pratchett</td>\n",
              "      <td>Teen-Young-Adult</td>\n",
              "      <td>9.780550e+12</td>\n",
              "      <td>https://d1w7fb2mkkr3kw.cloudfront.net/assets/i...</td>\n",
              "    </tr>\n",
              "    <tr>\n",
              "      <th>30554</th>\n",
              "      <td>0.841022</td>\n",
              "      <td>The Anxiety Workbook For Teens</td>\n",
              "      <td>Lisa M. Schab</td>\n",
              "      <td>Teen-Young-Adult</td>\n",
              "      <td>9.781570e+12</td>\n",
              "      <td>https://d1w7fb2mkkr3kw.cloudfront.net/assets/i...</td>\n",
              "    </tr>\n",
              "    <tr>\n",
              "      <th>25663</th>\n",
              "      <td>0.841022</td>\n",
              "      <td>The Anxiety Workbook For Teens</td>\n",
              "      <td>Lisa M. Schab</td>\n",
              "      <td>Society-Social-Sciences</td>\n",
              "      <td>9.781570e+12</td>\n",
              "      <td>https://d1w7fb2mkkr3kw.cloudfront.net/assets/i...</td>\n",
              "    </tr>\n",
              "    <tr>\n",
              "      <th>19404</th>\n",
              "      <td>0.841022</td>\n",
              "      <td>The Anxiety Workbook For Teens</td>\n",
              "      <td>Lisa M. Schab</td>\n",
              "      <td>Personal-Development</td>\n",
              "      <td>9.781570e+12</td>\n",
              "      <td>https://d1w7fb2mkkr3kw.cloudfront.net/assets/i...</td>\n",
              "    </tr>\n",
              "    <tr>\n",
              "      <th>571</th>\n",
              "      <td>0.836735</td>\n",
              "      <td>The Conversation Train</td>\n",
              "      <td>Joel Shaul</td>\n",
              "      <td>Medical</td>\n",
              "      <td>9.781850e+12</td>\n",
              "      <td>https://d1w7fb2mkkr3kw.cloudfront.net/assets/i...</td>\n",
              "    </tr>\n",
              "    <tr>\n",
              "      <th>27958</th>\n",
              "      <td>0.836734</td>\n",
              "      <td>The Conversation Train</td>\n",
              "      <td>Joel Shaul</td>\n",
              "      <td>Teaching-Resources-Education</td>\n",
              "      <td>9.781850e+12</td>\n",
              "      <td>https://d1w7fb2mkkr3kw.cloudfront.net/assets/i...</td>\n",
              "    </tr>\n",
              "    <tr>\n",
              "      <th>10494</th>\n",
              "      <td>0.833252</td>\n",
              "      <td>John W. Schaum Piano Course</td>\n",
              "      <td>John W Schaum</td>\n",
              "      <td>Entertainment</td>\n",
              "      <td>9.780770e+12</td>\n",
              "      <td>https://d1w7fb2mkkr3kw.cloudfront.net/assets/i...</td>\n",
              "    </tr>\n",
              "    <tr>\n",
              "      <th>10823</th>\n",
              "      <td>0.833252</td>\n",
              "      <td>John W. Schaum Piano Course</td>\n",
              "      <td>John W Schaum</td>\n",
              "      <td>Entertainment</td>\n",
              "      <td>9.780770e+12</td>\n",
              "      <td>https://d1w7fb2mkkr3kw.cloudfront.net/assets/i...</td>\n",
              "    </tr>\n",
              "    <tr>\n",
              "      <th>15539</th>\n",
              "      <td>0.831680</td>\n",
              "      <td>Meditations For Women Who Do Too Much Revised</td>\n",
              "      <td>Anne Wilson Schaef</td>\n",
              "      <td>Home-Garden</td>\n",
              "      <td>9.780060e+12</td>\n",
              "      <td>https://d1w7fb2mkkr3kw.cloudfront.net/assets/i...</td>\n",
              "    </tr>\n",
              "    <tr>\n",
              "      <th>23663</th>\n",
              "      <td>0.829164</td>\n",
              "      <td>Born In Shame</td>\n",
              "      <td>Nora Roberts</td>\n",
              "      <td>Romance</td>\n",
              "      <td>9.780750e+12</td>\n",
              "      <td>https://d1w7fb2mkkr3kw.cloudfront.net/assets/i...</td>\n",
              "    </tr>\n",
              "    <tr>\n",
              "      <th>23661</th>\n",
              "      <td>0.829164</td>\n",
              "      <td>Born In Shame</td>\n",
              "      <td>Nora Roberts</td>\n",
              "      <td>Romance</td>\n",
              "      <td>9.780750e+12</td>\n",
              "      <td>https://d1w7fb2mkkr3kw.cloudfront.net/assets/i...</td>\n",
              "    </tr>\n",
              "    <tr>\n",
              "      <th>4770</th>\n",
              "      <td>0.828881</td>\n",
              "      <td>Getting Started in Shares For Dummies Australia</td>\n",
              "      <td>James Dunn</td>\n",
              "      <td>Business-Finance-Law</td>\n",
              "      <td>9.780730e+12</td>\n",
              "      <td>https://d1w7fb2mkkr3kw.cloudfront.net/assets/i...</td>\n",
              "    </tr>\n",
              "    <tr>\n",
              "      <th>908</th>\n",
              "      <td>0.823417</td>\n",
              "      <td>The Green Zone Conversation Book</td>\n",
              "      <td>Joel Shaul</td>\n",
              "      <td>Medical</td>\n",
              "      <td>9.781850e+12</td>\n",
              "      <td>https://d1w7fb2mkkr3kw.cloudfront.net/assets/i...</td>\n",
              "    </tr>\n",
              "    <tr>\n",
              "      <th>28169</th>\n",
              "      <td>0.823417</td>\n",
              "      <td>The Green Zone Conversation Book</td>\n",
              "      <td>Joel Shaul</td>\n",
              "      <td>Teaching-Resources-Education</td>\n",
              "      <td>9.781850e+12</td>\n",
              "      <td>https://d1w7fb2mkkr3kw.cloudfront.net/assets/i...</td>\n",
              "    </tr>\n",
              "    <tr>\n",
              "      <th>14661</th>\n",
              "      <td>0.809378</td>\n",
              "      <td>The Family</td>\n",
              "      <td>Jeff Sharlet</td>\n",
              "      <td>History-Archaeology</td>\n",
              "      <td>9.780060e+12</td>\n",
              "      <td>https://d1w7fb2mkkr3kw.cloudfront.net/assets/i...</td>\n",
              "    </tr>\n",
              "    <tr>\n",
              "      <th>903</th>\n",
              "      <td>0.808662</td>\n",
              "      <td>The Mind and the Brain</td>\n",
              "      <td>Jeffrey M Schartz</td>\n",
              "      <td>Medical</td>\n",
              "      <td>9.780060e+12</td>\n",
              "      <td>https://d1w7fb2mkkr3kw.cloudfront.net/assets/i...</td>\n",
              "    </tr>\n",
              "    <tr>\n",
              "      <th>1818</th>\n",
              "      <td>0.808662</td>\n",
              "      <td>The Mind and the Brain</td>\n",
              "      <td>Jeffrey M Schartz</td>\n",
              "      <td>Science-Geography</td>\n",
              "      <td>9.780060e+12</td>\n",
              "      <td>https://d1w7fb2mkkr3kw.cloudfront.net/assets/i...</td>\n",
              "    </tr>\n",
              "    <tr>\n",
              "      <th>4359</th>\n",
              "      <td>0.806928</td>\n",
              "      <td>Sell It Like Serhant</td>\n",
              "      <td>Ryan Serhant</td>\n",
              "      <td>Business-Finance-Law</td>\n",
              "      <td>9.781470e+12</td>\n",
              "      <td>https://d1w7fb2mkkr3kw.cloudfront.net/assets/i...</td>\n",
              "    </tr>\n",
              "    <tr>\n",
              "      <th>19456</th>\n",
              "      <td>0.806928</td>\n",
              "      <td>Sell It Like Serhant</td>\n",
              "      <td>Ryan Serhant</td>\n",
              "      <td>Personal-Development</td>\n",
              "      <td>9.781470e+12</td>\n",
              "      <td>https://d1w7fb2mkkr3kw.cloudfront.net/assets/i...</td>\n",
              "    </tr>\n",
              "    <tr>\n",
              "      <th>4865</th>\n",
              "      <td>0.806122</td>\n",
              "      <td>Treasure Islands</td>\n",
              "      <td>Nicholas Shaxson</td>\n",
              "      <td>Business-Finance-Law</td>\n",
              "      <td>9.780100e+12</td>\n",
              "      <td>https://d1w7fb2mkkr3kw.cloudfront.net/assets/i...</td>\n",
              "    </tr>\n",
              "    <tr>\n",
              "      <th>32536</th>\n",
              "      <td>0.794326</td>\n",
              "      <td>Lonely Planet Sinhala (Sri Lanka) Phrasebook &amp;...</td>\n",
              "      <td>Lonely Planet</td>\n",
              "      <td>Travel-Holiday-Guides</td>\n",
              "      <td>9.781740e+12</td>\n",
              "      <td>https://d1w7fb2mkkr3kw.cloudfront.net/assets/i...</td>\n",
              "    </tr>\n",
              "    <tr>\n",
              "      <th>13538</th>\n",
              "      <td>0.793754</td>\n",
              "      <td>Sharing Time</td>\n",
              "      <td>Elizabeth Verdick</td>\n",
              "      <td>Health</td>\n",
              "      <td>9.781580e+12</td>\n",
              "      <td>https://d1w7fb2mkkr3kw.cloudfront.net/assets/i...</td>\n",
              "    </tr>\n",
              "    <tr>\n",
              "      <th>11516</th>\n",
              "      <td>0.790920</td>\n",
              "      <td>Run Fast Eat Slow</td>\n",
              "      <td>Shalane Flanagan</td>\n",
              "      <td>Food-Drink</td>\n",
              "      <td>9.781620e+12</td>\n",
              "      <td>https://d1w7fb2mkkr3kw.cloudfront.net/assets/i...</td>\n",
              "    </tr>\n",
              "    <tr>\n",
              "      <th>25854</th>\n",
              "      <td>0.790920</td>\n",
              "      <td>Run Fast Eat Slow</td>\n",
              "      <td>Shalane Flanagan</td>\n",
              "      <td>Sport</td>\n",
              "      <td>9.781620e+12</td>\n",
              "      <td>https://d1w7fb2mkkr3kw.cloudfront.net/assets/i...</td>\n",
              "    </tr>\n",
              "    <tr>\n",
              "      <th>21901</th>\n",
              "      <td>0.789186</td>\n",
              "      <td>The Right Side of History</td>\n",
              "      <td>Ben Shapiro</td>\n",
              "      <td>Religion</td>\n",
              "      <td>9.780060e+12</td>\n",
              "      <td>https://d1w7fb2mkkr3kw.cloudfront.net/assets/i...</td>\n",
              "    </tr>\n",
              "    <tr>\n",
              "      <th>25444</th>\n",
              "      <td>0.789186</td>\n",
              "      <td>The Right Side of History</td>\n",
              "      <td>Ben Shapiro</td>\n",
              "      <td>Society-Social-Sciences</td>\n",
              "      <td>9.780060e+12</td>\n",
              "      <td>https://d1w7fb2mkkr3kw.cloudfront.net/assets/i...</td>\n",
              "    </tr>\n",
              "    <tr>\n",
              "      <th>7473</th>\n",
              "      <td>0.788472</td>\n",
              "      <td>Shawls</td>\n",
              "      <td>Melanie Berg</td>\n",
              "      <td>Crafts-Hobbies</td>\n",
              "      <td>9.783770e+12</td>\n",
              "      <td>https://d1w7fb2mkkr3kw.cloudfront.net/assets/i...</td>\n",
              "    </tr>\n",
              "    <tr>\n",
              "      <th>21455</th>\n",
              "      <td>0.787432</td>\n",
              "      <td>Qualitative Research</td>\n",
              "      <td>Sharan B. Merriam</td>\n",
              "      <td>Reference</td>\n",
              "      <td>9.781120e+12</td>\n",
              "      <td>https://d1w7fb2mkkr3kw.cloudfront.net/assets/i...</td>\n",
              "    </tr>\n",
              "    <tr>\n",
              "      <th>13689</th>\n",
              "      <td>0.787322</td>\n",
              "      <td>The Like Switch</td>\n",
              "      <td>Jack Schafer</td>\n",
              "      <td>Health</td>\n",
              "      <td>9.781480e+12</td>\n",
              "      <td>https://d1w7fb2mkkr3kw.cloudfront.net/assets/i...</td>\n",
              "    </tr>\n",
              "    <tr>\n",
              "      <th>4426</th>\n",
              "      <td>0.787321</td>\n",
              "      <td>The Like Switch</td>\n",
              "      <td>Jack Schafer</td>\n",
              "      <td>Business-Finance-Law</td>\n",
              "      <td>9.781480e+12</td>\n",
              "      <td>https://d1w7fb2mkkr3kw.cloudfront.net/assets/i...</td>\n",
              "    </tr>\n",
              "    <tr>\n",
              "      <th>19563</th>\n",
              "      <td>0.787321</td>\n",
              "      <td>The Like Switch</td>\n",
              "      <td>Jack Schafer</td>\n",
              "      <td>Personal-Development</td>\n",
              "      <td>9.781480e+12</td>\n",
              "      <td>https://d1w7fb2mkkr3kw.cloudfront.net/assets/i...</td>\n",
              "    </tr>\n",
              "    <tr>\n",
              "      <th>7324</th>\n",
              "      <td>0.784149</td>\n",
              "      <td>The Art of Whimsical Lettering</td>\n",
              "      <td>Joanne Sharpe</td>\n",
              "      <td>Crafts-Hobbies</td>\n",
              "      <td>9.781620e+12</td>\n",
              "      <td>https://d1w7fb2mkkr3kw.cloudfront.net/assets/i...</td>\n",
              "    </tr>\n",
              "    <tr>\n",
              "      <th>11578</th>\n",
              "      <td>0.782944</td>\n",
              "      <td>Ayurvedic Cooking for Self-Healing</td>\n",
              "      <td>Usha Lad</td>\n",
              "      <td>Food-Drink</td>\n",
              "      <td>9.781880e+12</td>\n",
              "      <td>https://d1w7fb2mkkr3kw.cloudfront.net/assets/i...</td>\n",
              "    </tr>\n",
              "    <tr>\n",
              "      <th>17752</th>\n",
              "      <td>0.782944</td>\n",
              "      <td>Ayurvedic Cooking for Self-Healing</td>\n",
              "      <td>Usha Lad</td>\n",
              "      <td>Mind-Body-Spirit</td>\n",
              "      <td>9.781880e+12</td>\n",
              "      <td>https://d1w7fb2mkkr3kw.cloudfront.net/assets/i...</td>\n",
              "    </tr>\n",
              "    <tr>\n",
              "      <th>25826</th>\n",
              "      <td>0.781958</td>\n",
              "      <td>Run Fast. Cook Fast. Eat Slow.</td>\n",
              "      <td>Shalane Flanagan</td>\n",
              "      <td>Sport</td>\n",
              "      <td>9.781640e+12</td>\n",
              "      <td>https://d1w7fb2mkkr3kw.cloudfront.net/assets/i...</td>\n",
              "    </tr>\n",
              "    <tr>\n",
              "      <th>11466</th>\n",
              "      <td>0.781958</td>\n",
              "      <td>Run Fast. Cook Fast. Eat Slow.</td>\n",
              "      <td>Shalane Flanagan</td>\n",
              "      <td>Food-Drink</td>\n",
              "      <td>9.781640e+12</td>\n",
              "      <td>https://d1w7fb2mkkr3kw.cloudfront.net/assets/i...</td>\n",
              "    </tr>\n",
              "    <tr>\n",
              "      <th>14596</th>\n",
              "      <td>0.769723</td>\n",
              "      <td>Landscape and Memory</td>\n",
              "      <td>Simon Schama</td>\n",
              "      <td>History-Archaeology</td>\n",
              "      <td>9.780680e+12</td>\n",
              "      <td>https://d1w7fb2mkkr3kw.cloudfront.net/assets/i...</td>\n",
              "    </tr>\n",
              "    <tr>\n",
              "      <th>18079</th>\n",
              "      <td>0.769723</td>\n",
              "      <td>Landscape and Memory</td>\n",
              "      <td>Simon Schama</td>\n",
              "      <td>Natural-History</td>\n",
              "      <td>9.780680e+12</td>\n",
              "      <td>https://d1w7fb2mkkr3kw.cloudfront.net/assets/i...</td>\n",
              "    </tr>\n",
              "    <tr>\n",
              "      <th>6987</th>\n",
              "      <td>0.767427</td>\n",
              "      <td>Art Lab For Kids</td>\n",
              "      <td>Susan Schwake</td>\n",
              "      <td>Crafts-Hobbies</td>\n",
              "      <td>9.781590e+12</td>\n",
              "      <td>https://d1w7fb2mkkr3kw.cloudfront.net/assets/i...</td>\n",
              "    </tr>\n",
              "  </tbody>\n",
              "</table>\n",
              "</div>"
            ],
            "text/plain": [
              "          Score  ...                                          image_url\n",
              "14525  1.170815  ...  https://d1w7fb2mkkr3kw.cloudfront.net/assets/i...\n",
              "24091  0.877929  ...  https://d1w7fb2mkkr3kw.cloudfront.net/assets/i...\n",
              "23745  0.877929  ...  https://d1w7fb2mkkr3kw.cloudfront.net/assets/i...\n",
              "24340  0.877929  ...  https://d1w7fb2mkkr3kw.cloudfront.net/assets/i...\n",
              "7934   0.877929  ...  https://d1w7fb2mkkr3kw.cloudfront.net/assets/i...\n",
              "21736  0.864817  ...  https://d1w7fb2mkkr3kw.cloudfront.net/assets/i...\n",
              "21890  0.864817  ...  https://d1w7fb2mkkr3kw.cloudfront.net/assets/i...\n",
              "8794   0.864817  ...  https://d1w7fb2mkkr3kw.cloudfront.net/assets/i...\n",
              "7937   0.864817  ...  https://d1w7fb2mkkr3kw.cloudfront.net/assets/i...\n",
              "18409  0.859566  ...  https://d1w7fb2mkkr3kw.cloudfront.net/assets/i...\n",
              "24006  0.857627  ...  https://d1w7fb2mkkr3kw.cloudfront.net/assets/i...\n",
              "30128  0.841992  ...  https://d1w7fb2mkkr3kw.cloudfront.net/assets/i...\n",
              "30554  0.841022  ...  https://d1w7fb2mkkr3kw.cloudfront.net/assets/i...\n",
              "25663  0.841022  ...  https://d1w7fb2mkkr3kw.cloudfront.net/assets/i...\n",
              "19404  0.841022  ...  https://d1w7fb2mkkr3kw.cloudfront.net/assets/i...\n",
              "571    0.836735  ...  https://d1w7fb2mkkr3kw.cloudfront.net/assets/i...\n",
              "27958  0.836734  ...  https://d1w7fb2mkkr3kw.cloudfront.net/assets/i...\n",
              "10494  0.833252  ...  https://d1w7fb2mkkr3kw.cloudfront.net/assets/i...\n",
              "10823  0.833252  ...  https://d1w7fb2mkkr3kw.cloudfront.net/assets/i...\n",
              "15539  0.831680  ...  https://d1w7fb2mkkr3kw.cloudfront.net/assets/i...\n",
              "23663  0.829164  ...  https://d1w7fb2mkkr3kw.cloudfront.net/assets/i...\n",
              "23661  0.829164  ...  https://d1w7fb2mkkr3kw.cloudfront.net/assets/i...\n",
              "4770   0.828881  ...  https://d1w7fb2mkkr3kw.cloudfront.net/assets/i...\n",
              "908    0.823417  ...  https://d1w7fb2mkkr3kw.cloudfront.net/assets/i...\n",
              "28169  0.823417  ...  https://d1w7fb2mkkr3kw.cloudfront.net/assets/i...\n",
              "14661  0.809378  ...  https://d1w7fb2mkkr3kw.cloudfront.net/assets/i...\n",
              "903    0.808662  ...  https://d1w7fb2mkkr3kw.cloudfront.net/assets/i...\n",
              "1818   0.808662  ...  https://d1w7fb2mkkr3kw.cloudfront.net/assets/i...\n",
              "4359   0.806928  ...  https://d1w7fb2mkkr3kw.cloudfront.net/assets/i...\n",
              "19456  0.806928  ...  https://d1w7fb2mkkr3kw.cloudfront.net/assets/i...\n",
              "4865   0.806122  ...  https://d1w7fb2mkkr3kw.cloudfront.net/assets/i...\n",
              "32536  0.794326  ...  https://d1w7fb2mkkr3kw.cloudfront.net/assets/i...\n",
              "13538  0.793754  ...  https://d1w7fb2mkkr3kw.cloudfront.net/assets/i...\n",
              "11516  0.790920  ...  https://d1w7fb2mkkr3kw.cloudfront.net/assets/i...\n",
              "25854  0.790920  ...  https://d1w7fb2mkkr3kw.cloudfront.net/assets/i...\n",
              "21901  0.789186  ...  https://d1w7fb2mkkr3kw.cloudfront.net/assets/i...\n",
              "25444  0.789186  ...  https://d1w7fb2mkkr3kw.cloudfront.net/assets/i...\n",
              "7473   0.788472  ...  https://d1w7fb2mkkr3kw.cloudfront.net/assets/i...\n",
              "21455  0.787432  ...  https://d1w7fb2mkkr3kw.cloudfront.net/assets/i...\n",
              "13689  0.787322  ...  https://d1w7fb2mkkr3kw.cloudfront.net/assets/i...\n",
              "4426   0.787321  ...  https://d1w7fb2mkkr3kw.cloudfront.net/assets/i...\n",
              "19563  0.787321  ...  https://d1w7fb2mkkr3kw.cloudfront.net/assets/i...\n",
              "7324   0.784149  ...  https://d1w7fb2mkkr3kw.cloudfront.net/assets/i...\n",
              "11578  0.782944  ...  https://d1w7fb2mkkr3kw.cloudfront.net/assets/i...\n",
              "17752  0.782944  ...  https://d1w7fb2mkkr3kw.cloudfront.net/assets/i...\n",
              "25826  0.781958  ...  https://d1w7fb2mkkr3kw.cloudfront.net/assets/i...\n",
              "11466  0.781958  ...  https://d1w7fb2mkkr3kw.cloudfront.net/assets/i...\n",
              "14596  0.769723  ...  https://d1w7fb2mkkr3kw.cloudfront.net/assets/i...\n",
              "18079  0.769723  ...  https://d1w7fb2mkkr3kw.cloudfront.net/assets/i...\n",
              "6987   0.767427  ...  https://d1w7fb2mkkr3kw.cloudfront.net/assets/i...\n",
              "\n",
              "[50 rows x 6 columns]"
            ]
          },
          "metadata": {
            "tags": []
          },
          "execution_count": 15
        }
      ]
    },
    {
      "cell_type": "code",
      "metadata": {
        "id": "Zw1CACdckp1j"
      },
      "source": [
        "word_tokenize(\"history of time\")"
      ],
      "execution_count": null,
      "outputs": []
    },
    {
      "cell_type": "code",
      "metadata": {
        "id": "hCwvKIFTIPEd"
      },
      "source": [
        ""
      ],
      "execution_count": null,
      "outputs": []
    },
    {
      "cell_type": "code",
      "metadata": {
        "id": "a7bDWkU8JJur",
        "colab": {
          "base_uri": "https://localhost:8080/"
        },
        "outputId": "b5dbbafe-223d-45ba-908c-b085698cfa31"
      },
      "source": [
        "!pip install flask-ngrok"
      ],
      "execution_count": null,
      "outputs": [
        {
          "output_type": "stream",
          "text": [
            "Collecting flask-ngrok\n",
            "  Downloading https://files.pythonhosted.org/packages/af/6c/f54cb686ad1129e27d125d182f90f52b32f284e6c8df58c1bae54fa1adbc/flask_ngrok-0.0.25-py3-none-any.whl\n",
            "Requirement already satisfied: requests in /usr/local/lib/python3.7/dist-packages (from flask-ngrok) (2.23.0)\n",
            "Requirement already satisfied: Flask>=0.8 in /usr/local/lib/python3.7/dist-packages (from flask-ngrok) (1.1.2)\n",
            "Requirement already satisfied: idna<3,>=2.5 in /usr/local/lib/python3.7/dist-packages (from requests->flask-ngrok) (2.10)\n",
            "Requirement already satisfied: chardet<4,>=3.0.2 in /usr/local/lib/python3.7/dist-packages (from requests->flask-ngrok) (3.0.4)\n",
            "Requirement already satisfied: urllib3!=1.25.0,!=1.25.1,<1.26,>=1.21.1 in /usr/local/lib/python3.7/dist-packages (from requests->flask-ngrok) (1.24.3)\n",
            "Requirement already satisfied: certifi>=2017.4.17 in /usr/local/lib/python3.7/dist-packages (from requests->flask-ngrok) (2020.12.5)\n",
            "Requirement already satisfied: Werkzeug>=0.15 in /usr/local/lib/python3.7/dist-packages (from Flask>=0.8->flask-ngrok) (2.0.0)\n",
            "Requirement already satisfied: itsdangerous>=0.24 in /usr/local/lib/python3.7/dist-packages (from Flask>=0.8->flask-ngrok) (2.0.0)\n",
            "Requirement already satisfied: click>=5.1 in /usr/local/lib/python3.7/dist-packages (from Flask>=0.8->flask-ngrok) (8.0.0)\n",
            "Requirement already satisfied: Jinja2>=2.10.1 in /usr/local/lib/python3.7/dist-packages (from Flask>=0.8->flask-ngrok) (2.11.3)\n",
            "Requirement already satisfied: MarkupSafe>=0.23 in /usr/local/lib/python3.7/dist-packages (from Jinja2>=2.10.1->Flask>=0.8->flask-ngrok) (2.0.0)\n",
            "Installing collected packages: flask-ngrok\n",
            "Successfully installed flask-ngrok-0.0.25\n"
          ],
          "name": "stdout"
        }
      ]
    },
    {
      "cell_type": "code",
      "metadata": {
        "colab": {
          "base_uri": "https://localhost:8080/"
        },
        "id": "6W5comIJYKI-",
        "outputId": "8688c71c-0a9c-4055-d1d1-a68bfc1af3c4"
      },
      "source": [
        "!pip install flask-cors"
      ],
      "execution_count": null,
      "outputs": [
        {
          "output_type": "stream",
          "text": [
            "Collecting flask-cors\n",
            "  Downloading https://files.pythonhosted.org/packages/db/84/901e700de86604b1c4ef4b57110d4e947c218b9997adf5d38fa7da493bce/Flask_Cors-3.0.10-py2.py3-none-any.whl\n",
            "Requirement already satisfied: Six in /usr/local/lib/python3.7/dist-packages (from flask-cors) (1.15.0)\n",
            "Requirement already satisfied: Flask>=0.9 in /usr/local/lib/python3.7/dist-packages (from flask-cors) (1.1.2)\n",
            "Requirement already satisfied: Werkzeug>=0.15 in /usr/local/lib/python3.7/dist-packages (from Flask>=0.9->flask-cors) (2.0.0)\n",
            "Requirement already satisfied: Jinja2>=2.10.1 in /usr/local/lib/python3.7/dist-packages (from Flask>=0.9->flask-cors) (2.11.3)\n",
            "Requirement already satisfied: click>=5.1 in /usr/local/lib/python3.7/dist-packages (from Flask>=0.9->flask-cors) (8.0.0)\n",
            "Requirement already satisfied: itsdangerous>=0.24 in /usr/local/lib/python3.7/dist-packages (from Flask>=0.9->flask-cors) (2.0.0)\n",
            "Requirement already satisfied: MarkupSafe>=0.23 in /usr/local/lib/python3.7/dist-packages (from Jinja2>=2.10.1->Flask>=0.9->flask-cors) (2.0.0)\n",
            "Installing collected packages: flask-cors\n",
            "Successfully installed flask-cors-3.0.10\n"
          ],
          "name": "stdout"
        }
      ]
    },
    {
      "cell_type": "code",
      "metadata": {
        "colab": {
          "base_uri": "https://localhost:8080/"
        },
        "id": "UIyKZVNR90fD",
        "outputId": "d273c0f7-9697-4699-85e2-132d5cf25a3e"
      },
      "source": [
        "from flask import Flask,request\n",
        "from flask_cors import CORS\n",
        "from flask_ngrok import run_with_ngrok\n",
        "\n",
        "app = Flask(__name__)\n",
        "CORS(app)\n",
        "run_with_ngrok(app)   \n",
        "  \n",
        "@app.route(\"/books/<string:input>\",methods=['GET'])\n",
        "def home(input):\n",
        "  df = book_recommendation_based_on_text_similarity(input)\n",
        "  json = df.to_json(orient='records')\n",
        "  return json\n",
        "    \n",
        "app.run()"
      ],
      "execution_count": null,
      "outputs": [
        {
          "output_type": "stream",
          "text": [
            " * Serving Flask app \"__main__\" (lazy loading)\n",
            " * Environment: production\n",
            "\u001b[31m   WARNING: This is a development server. Do not use it in a production deployment.\u001b[0m\n",
            "\u001b[2m   Use a production WSGI server instead.\u001b[0m\n",
            " * Debug mode: off\n"
          ],
          "name": "stdout"
        },
        {
          "output_type": "stream",
          "text": [
            " * Running on http://127.0.0.1:5000/ (Press CTRL+C to quit)\n"
          ],
          "name": "stderr"
        },
        {
          "output_type": "stream",
          "text": [
            " * Running on http://a82204d7aaad.ngrok.io\n",
            " * Traffic stats available on http://127.0.0.1:4040\n"
          ],
          "name": "stdout"
        },
        {
          "output_type": "stream",
          "text": [
            "127.0.0.1 - - [19/May/2021 09:11:59] \"GET /books/hawkings HTTP/1.1\" 200 -\n"
          ],
          "name": "stderr"
        }
      ]
    },
    {
      "cell_type": "code",
      "metadata": {
        "id": "DFSYhQdX98Wo"
      },
      "source": [
        "df = book_recommendation_based_on_text_similarity(\"history of time\")\n"
      ],
      "execution_count": null,
      "outputs": []
    },
    {
      "cell_type": "code",
      "metadata": {
        "id": "O65dOhS0eUVg"
      },
      "source": [
        "json = df.to_json(orient='records')"
      ],
      "execution_count": null,
      "outputs": []
    },
    {
      "cell_type": "code",
      "metadata": {
        "id": "4Kj0PbLge3UZ"
      },
      "source": [
        "json"
      ],
      "execution_count": null,
      "outputs": []
    },
    {
      "cell_type": "code",
      "metadata": {
        "id": "3VOG-YgbfK7L"
      },
      "source": [
        ""
      ],
      "execution_count": null,
      "outputs": []
    }
  ]
}